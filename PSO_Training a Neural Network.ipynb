{
 "cells": [
  {
   "cell_type": "code",
   "execution_count": 157,
   "id": "46db9ed0",
   "metadata": {},
   "outputs": [],
   "source": [
    "#import modules\n",
    "import pandas as pd\n",
    "import numpy as np\n",
    "import matplotlib\n",
    "import matplotlib.pyplot as plt\n",
    "from sklearn.metrics import accuracy_score\n",
    "from sklearn.preprocessing import StandardScaler\n",
    "from sklearn.model_selection import train_test_split\n",
    "from sklearn.datasets import load_wine\n",
    "\n",
    "# Import PySwarms\n",
    "import pyswarms as ps\n",
    "from pyswarms.utils.functions import single_obj as fx\n",
    "from pyswarms.utils.plotters import plot_cost_history, plot_contour, plot_surface\n",
    "import matplotlib.pyplot as plt"
   ]
  },
  {
   "cell_type": "code",
   "execution_count": 158,
   "id": "e931012d",
   "metadata": {},
   "outputs": [
    {
     "data": {
      "text/plain": [
       "178"
      ]
     },
     "execution_count": 158,
     "metadata": {},
     "output_type": "execute_result"
    }
   ],
   "source": [
    "#Carregando dados \n",
    "\n",
    "data = load_wine()\n",
    "X = data.data\n",
    "y = data.target\n",
    "np.size(y,0)"
   ]
  },
  {
   "cell_type": "code",
   "execution_count": 159,
   "id": "273896c9",
   "metadata": {},
   "outputs": [],
   "source": [
    "seed = 42\n",
    "test_size = 0.3"
   ]
  },
  {
   "cell_type": "code",
   "execution_count": 160,
   "id": "632726d3",
   "metadata": {},
   "outputs": [
    {
     "name": "stdout",
     "output_type": "stream",
     "text": [
      "124\n",
      "54\n"
     ]
    }
   ],
   "source": [
    "#Treinamento e teste\n",
    "\n",
    "X_train, X_test, y_train, y_test = train_test_split(X_scaled, y, test_size=test_size, random_state=seed, shuffle=True, stratify=y)\n",
    "print(y_train.shape[0])\n",
    "print(y_train.shape[0])"
   ]
  },
  {
   "cell_type": "code",
   "execution_count": 179,
   "id": "4c6cd305",
   "metadata": {},
   "outputs": [
    {
     "data": {
      "text/plain": [
       "124"
      ]
     },
     "execution_count": 179,
     "metadata": {},
     "output_type": "execute_result"
    }
   ],
   "source": [
    "#Arquitetura da rede\n",
    "n_inputs = 13 # features\n",
    "n_hidden = 5 \n",
    "n_classes = 3\n",
    "num_samples = X_train.shape[0] \n",
    "num_samples"
   ]
  },
  {
   "cell_type": "code",
   "execution_count": 180,
   "id": "1b7114fd",
   "metadata": {},
   "outputs": [],
   "source": [
    "def logits_function(p,X_train):\n",
    "    \"\"\" Calculate roll-back the weights and biases\n",
    "\n",
    "    Inputs\n",
    "    ------\n",
    "    p: np.ndarray\n",
    "        The dimensions should include an unrolled version of the\n",
    "        weights and biases.\n",
    "\n",
    "    Returns\n",
    "    -------\n",
    "    numpy.ndarray of logits for layer 2\n",
    "\n",
    "    \"\"\"\n",
    "    #coeficientes\n",
    "    c1 = n_hidden*n_inputs\n",
    "    c2 = c1 +n_hidden\n",
    "    c3 = c2 + (n_hidden*n_hidden)\n",
    "    c4=  c3 + n_hidden\n",
    "    c5 = c4+(n_hidden*n_classes)\n",
    "    \n",
    "     # First layer weights\n",
    "    W1 = p[0:c1].reshape(n_inputs, n_hidden) - 1\n",
    "    \n",
    "    # First layer bias\n",
    "    b1 = p[c1:c2].reshape(( n_hidden,))\n",
    "    \n",
    "    # Second layer weights\n",
    "    W2 = p[c2:c3].reshape(n_hidden, n_hidden) - 1\n",
    "    \n",
    "    # Second layer bias\n",
    "    b2 = p[c3:c4].reshape(( n_hidden,))\n",
    "    W3 = p[c4:c5].reshape(n_hidden, n_classes) - 1\n",
    "    b3 = p[c5:c5+n_classes].reshape((n_classes,))\n",
    "    \n",
    "\n",
    "    # Perform forward propagation\n",
    "    z1 = X_train.dot(W1) + b1  # Pre-activation in Layer 1\n",
    "    a1 = np.tanh(z1)     # Activation in Layer 1\n",
    "    \n",
    "    # Second linear step\n",
    "    z2 = a1.dot(W2) + b2\n",
    "    \n",
    "    # Second activation function\n",
    "    a2 = np.tanh(z2)\n",
    "    \n",
    "    #Third linear step\n",
    "    z3 = a2.dot(W3) + b3\n",
    "    \n",
    "    #For the Third linear activation function we use the softmax function, either the sigmoid of softmax should be used for the last layer\n",
    "    logits = z3\n",
    "   \n",
    "      \n",
    "    \n",
    "    \n",
    "    \n",
    "    return logits          # Logits for Layer 2"
   ]
  },
  {
   "cell_type": "code",
   "execution_count": 181,
   "id": "52aa32cb",
   "metadata": {},
   "outputs": [],
   "source": [
    "# Forward propagation\n",
    "def forward_prop(params):\n",
    "    \"\"\"Forward propagation as objective function\n",
    "\n",
    "    This computes for the forward propagation of the neural network, as\n",
    "    well as the loss.\n",
    "\n",
    "    Inputs\n",
    "    ------\n",
    "    params: np.ndarray\n",
    "        The dimensions should include an unrolled version of the\n",
    "        weights and biases.\n",
    "\n",
    "    Returns\n",
    "    -------\n",
    "    float\n",
    "        The computed negative log-likelihood loss given the parameters\n",
    "    \"\"\"\n",
    "\n",
    "    logits = logits_function(params,X_train)\n",
    "\n",
    "    # Compute for the softmax of the logits\n",
    "    exp_scores = np.exp(logits)\n",
    "    probs = exp_scores / np.sum(exp_scores, axis=1, keepdims=True)\n",
    "\n",
    "    # Compute for the negative log likelihood\n",
    "\n",
    "    corect_logprobs = -np.log(probs[range(num_samples), y_train])\n",
    "    loss = np.sum(corect_logprobs) / num_samples\n",
    "    #print(loss)\n",
    "    return loss"
   ]
  },
  {
   "cell_type": "code",
   "execution_count": 182,
   "id": "02180447",
   "metadata": {},
   "outputs": [],
   "source": [
    "def f(x):\n",
    "    \"\"\"Higher-level method to do forward_prop in the\n",
    "    whole swarm.\n",
    "\n",
    "    Inputs\n",
    "    ------\n",
    "    x: numpy.ndarray of shape (n_particles, dimensions)\n",
    "        The swarm that will perform the search\n",
    "\n",
    "    Returns\n",
    "    -------\n",
    "    numpy.ndarray of shape (n_particles, )\n",
    "        The computed loss for each particle\n",
    "    \"\"\"\n",
    "    \n",
    "    n_particles = x.shape[0]\n",
    "    j = [forward_prop(x[i]) for i in range(n_particles)]\n",
    "    #print(x)\n",
    "    return np.array(j)"
   ]
  },
  {
   "cell_type": "code",
   "execution_count": 183,
   "id": "c6d8401b",
   "metadata": {
    "scrolled": true
   },
   "outputs": [
    {
     "name": "stderr",
     "output_type": "stream",
     "text": [
      "2021-07-10 17:24:04,037 - pyswarms.single.global_best - INFO - Optimize for 1000 iters with {'c1': 0.5, 'c2': 0.3, 'w': 0.9}\n",
      "pyswarms.single.global_best: 100%|██████████████████████████████████████████████████████████████|1000/1000, best_cost=0\n",
      "2021-07-10 17:24:16,649 - pyswarms.single.global_best - INFO - Optimization finished | best cost: 0.0, best pos: [ 5.16292893e-01  4.57915410e-01 -1.28829671e+00 -2.41401716e-01\n",
      "  1.04362129e+00  1.43674243e+00 -6.56052253e-01  9.52591163e-01\n",
      "  2.24634134e-01  9.16053857e-01  5.31954937e-01 -2.84951442e-01\n",
      "  1.12999929e+00 -2.25129148e+00 -2.06375488e-01  6.97147661e+00\n",
      "  4.38085718e-01  9.63625203e-01  1.44197748e+00  4.17743048e+00\n",
      " -1.37920688e+00  4.14631289e-01  1.08426816e+00  4.56134994e-01\n",
      "  1.35180740e+00  7.85547965e-01  7.40437445e-01  1.76640930e+00\n",
      "  1.73232854e+00 -6.59706416e-01 -1.40382505e+00 -4.36394402e+00\n",
      "  1.29263819e+00 -1.04870141e+00 -8.56891372e-01  1.57642618e-01\n",
      "  7.05431935e-01  9.85601120e-01  2.07487376e+00 -5.39536199e-01\n",
      "  2.84771407e-01 -3.02469739e-01  1.09656998e+00  3.31925489e+00\n",
      " -3.18922052e-01  6.38380615e-01  8.92489562e-01  1.35800450e+00\n",
      " -2.34170500e+00  4.58042686e-01  6.29282043e-01 -4.00445436e+00\n",
      "  2.40096541e+00  1.89067761e+00  1.21340825e+00 -1.44959590e+00\n",
      "  7.11141620e-01  8.57295610e-01  4.38604329e+00 -1.97492154e-02\n",
      "  1.09304611e+00 -1.39340161e-01 -1.07769850e+00  4.30441880e-01\n",
      " -8.32023969e+00 -7.70793723e-01  3.59941649e-01 -4.81774812e-01\n",
      "  1.47992336e+00  1.38604567e+00 -2.05309765e+00  3.38578195e-01\n",
      "  1.03175985e+00 -1.10569080e-02 -9.17550390e-02  7.71206733e-01\n",
      "  6.83234258e-01  1.10027588e+00  5.92942745e-01 -1.71822605e-01\n",
      "  2.03085684e-01  2.40394300e+00  6.62125969e-01 -1.76879525e+00\n",
      " -1.69113479e+00 -3.50789391e-01  3.88144387e-01  1.54180952e+00\n",
      " -1.90797641e+00 -3.56232979e+00 -1.26857962e-01 -5.83010114e-01\n",
      " -1.55552728e+00 -3.58809211e+00  1.29507660e+00 -6.23618495e-01\n",
      "  6.59818043e-01  1.46309585e-02 -8.84294074e-01  9.35238608e-01\n",
      "  3.54760884e+00 -5.74659860e-01 -8.33173798e-02  4.89959834e+00\n",
      "  8.09869809e-01  3.66044097e-01  8.87244475e+00  2.95739664e+00\n",
      " -3.50360493e-01  2.87412195e+01 -1.61845371e+00  2.49896473e+00\n",
      "  1.51982770e+00 -5.70213446e+01  3.68806846e+00  1.20426229e+00\n",
      "  1.12468119e+00  1.55857144e+00]\n"
     ]
    },
    {
     "data": {
      "image/png": "[encoded data removed]",
      "text/plain": [
       "<Figure size 720x576 with 1 Axes>"
      ]
     },
     "metadata": {
      "needs_background": "light"
     },
     "output_type": "display_data"
    },
    {
     "name": "stdout",
     "output_type": "stream",
     "text": [
      "Wall time: 13 s\n"
     ]
    }
   ],
   "source": [
    "%%time\n",
    "# Initialize swarm\n",
    "options = {'c1': 0.5, 'c2': 0.3, 'w':0.9}\n",
    "\n",
    "# Call instance of PSO\n",
    "dimensions = (n_inputs * n_hidden) + (n_hidden * n_hidden)+(n_hidden*n_classes) + 2*n_hidden + n_classes\n",
    "optimizer = ps.single.GlobalBestPSO(n_particles=100, dimensions=dimensions, options=options)\n",
    "\n",
    "# Perform optimization\n",
    "cost, pos = optimizer.optimize(f, iters=1000)\n",
    "\n",
    "# Plot the cost\n",
    "plot_cost_history(optimizer.cost_history)\n",
    "plt.show()\n"
   ]
  },
  {
   "cell_type": "code",
   "execution_count": 184,
   "id": "76180aae",
   "metadata": {},
   "outputs": [],
   "source": [
    "def predict(pos):\n",
    "    \"\"\"\n",
    "    Use the trained weights to perform class predictions.\n",
    "\n",
    "    Inputs\n",
    "    ------\n",
    "    pos: numpy.ndarray\n",
    "        Position matrix found by the swarm. Will be rolled\n",
    "        into weights and biases.\n",
    "    \"\"\"\n",
    "    logits = logits_function(pos,X_test)\n",
    "    \n",
    "    y_pred = np.argmax(logits, axis=1)\n",
    "   \n",
    "    return y_pred"
   ]
  },
  {
   "cell_type": "code",
   "execution_count": 185,
   "id": "0c13deb2",
   "metadata": {},
   "outputs": [
    {
     "name": "stdout",
     "output_type": "stream",
     "text": [
      "[0 1 0 0 0 0 2 1 2 2 1 1 2 1 0 2 1 0 2 2 1 2 2 2 2 2 0 1 0 2 1 1 1 1 1 2 1\n",
      " 1 1 0 2 0 0 0 0 1 1 0 2 0 1 1 2 0]\n"
     ]
    },
    {
     "data": {
      "text/plain": [
       "0.9074074074074074"
      ]
     },
     "execution_count": 185,
     "metadata": {},
     "output_type": "execute_result"
    }
   ],
   "source": [
    "(predict(pos) == y_test).mean()"
   ]
  },
  {
   "cell_type": "code",
   "execution_count": null,
   "id": "b4a8a6f9",
   "metadata": {},
   "outputs": [],
   "source": []
  }
 ],
 "metadata": {
  "kernelspec": {
   "display_name": "Python 3",
   "language": "python",
   "name": "python3"
  },
  "language_info": {
   "codemirror_mode": {
    "name": "ipython",
    "version": 3
   },
   "file_extension": ".py",
   "mimetype": "text/x-python",
   "name": "python",
   "nbconvert_exporter": "python",
   "pygments_lexer": "ipython3",
   "version": "3.8.8"
  }
 },
 "nbformat": 4,
 "nbformat_minor": 5
}
